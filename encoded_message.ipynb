{
 "metadata": {
  "name": ""
 },
 "nbformat": 3,
 "nbformat_minor": 0,
 "worksheets": [
  {
   "cells": [
    {
     "cell_type": "markdown",
     "metadata": {},
     "source": [
      "# A Coded Message\n",
      "\n",
      "Just the other day my brother sent me an image of a curious coded message.  The only explanation that came with it was the following challenge: _\"Can you crack this code?\"_  Aha!  Challenge accepted, sir!\n",
      "\n",
      "<img src=\"https://github.com/Who8MyLunch/Holiday_Distration/blob/master/IMG_20131220_145924~2.jpg?raw=true\" width=\"700\">\n",
      "\n",
      "This looks like symbols etched or burned (by laser??) onto a piece of wood.  My brother is pretty crafty with his wood-working skills, but would he actually take the time to make this?  Maybe?\n",
      "\n",
      "My wife and I sat down and looked this over for a little while.  She loves playing \"Words with Friends\" on her phone and she had some good ideas about how to interpret the symbols for the smaller words.  It looks to me that this note might be a poem, judging by the periodic sentences, plus what might be the author's name appended at the very end.  After an hour we had not made much progress and so I decided to pursue a nerdy statistical approach.  This will be an interesting effort to work on during my free time over the holiday.\n",
      "\n",
      "# Transcribe Symbols to Numbers\n",
      "\n",
      "<img src=\"https://github.com/Who8MyLunch/Holiday_Distration/blob/master/IMG_20131220_145924~2b.jpg?raw=true\" width=\"800\">\n",
      "\n",
      "The first step for me was to transcribe the indidual symbols in the message into a form amenable to manipulation by a machine.  I scanned thrugh the document and assigned a two-digit number to each symbol.  I wrote that all down on a piece paper while sitting on the couch.  Then I spent **way** too much time taking photos of those symbols and editing them into the form seen below.  Notice that there are exactly 26 distinct symbols in this code.  This lends support for the idea that this code is a variant of the [Substitution Cipher](http://en.wikipedia.org/wiki/Substitution_cipher), where original letters are substituted for new symbols using a predetermined scheme.  In this case, the scheme would be some clever assignment of random Greek letters to real letters.\n",
      "\n",
      "I don't suspect the use of a [Transposition Cipher](http://en.wikipedia.org/wiki/Transposition_cipher) in addition to a substitution cipher since the ordering of words, lines, and punctuation has a strong resemblance to real text, perhaps even a poem. \n",
      "\n",
      "<img src=\"https://github.com/Who8MyLunch/Holiday_Distration/blob/master/symbols_50.png?raw=true\" width=\"700\">\n",
      "\n",
      "Next I transcribed the encoded message into numerical form, making sure to keep track of individual words.  Each line of numbers listed below corresponds to an individual word from the coded message.  I think it's a bit of a hassle at this point to worry too much about which words are placed on which line.  But the least I can do now is to keep track of the index number for the first word on each line. "
     ]
    },
    {
     "cell_type": "code",
     "collapsed": false,
     "input": [
      "%matplotlib inline\n",
      "\n",
      "import matplotlib.pyplot as plt\n",
      "import prettyplotlib as ppl  # help matplotlib be all that it can be!  \n",
      "\n",
      "import numpy as np\n",
      "import pandas as pd\n",
      "import requests\n",
      "\n",
      "# Mysterious message transcribed to a number code for easier manipulation.\n",
      "message = [[ 0,  1,  2,  3,  4,  5,  6,  7,  8,  9,  3, 10],\n",
      "           [11,  5, 12, 13, 14, 14,  7,  6,  7],\n",
      "           [13, 10,  2],\n",
      "           [15, 11],\n",
      "           \n",
      "           [ 5, 16,  4, 11,  2,  4,  3,  3],\n",
      "           [15, 17, 11, 18,  8, 14],\n",
      "           [ 6,  5, 24,  2, 19, 20, 11, 21, 24, 17,  3, 21],\n",
      "           [ 1, 22],           \n",
      "           [10,  9, 17],\n",
      "           \n",
      "           [ 3, 14,  0,  7,  0, 19, 14,  5],           \n",
      "           [23, 22],\n",
      "           [ 8],\n",
      "           [19,  6, 16,  2, 11, 17, 24,  5, 13, 12, 12],\n",
      "           [ 8,  4],\n",
      "           [24,  1, 22],\n",
      "           \n",
      "           [ 0,  4,  9, 18, 10, 22,  6, 10, 19,  4],\n",
      "           [20, 15,  1, 10, 23],\n",
      "           [18,  1],\n",
      "           [ 3, 15, 21],\n",
      "           [11, 23, 12, 25],\n",
      "           \n",
      "           [20, 19,  7, 23,  5, 11, 19,  7,  7],\n",
      "           [12, 23, 19],\n",
      "           [15, 16, 15, 21,  4,  8, 16,  5, 24],\n",
      "           [ 7, 0, 23,  8],\n",
      "           [24, 15, 24, 25,  2, 25]]\n",
      "\n",
      "line_ends = [3, 8, 14, 19, 24]\n"
     ],
     "language": "python",
     "metadata": {},
     "outputs": [],
     "prompt_number": 29
    },
    {
     "cell_type": "markdown",
     "metadata": {},
     "source": [
      "# Counting Letters\n",
      "\n",
      "Now seems like a great time to start counting how many times we see each symbol repeated in the coded message text.  And here's why [(wikipedia)](http://en.wikipedia.org/wiki/Frequency_analysis):\n",
      "\n",
      "> Frequency analysis is based on the fact that, in any given stretch of written language, certain letters and combinations of letters occur with varying frequencies. Moreover, there is a characteristic distribution of letters that is roughly the same for almost all samples of that language\n",
      "\n"
     ]
    },
    {
     "cell_type": "code",
     "collapsed": false,
     "input": [
      "def count_helper(message):\n",
      "    \"\"\"Helper function to compute symbols is a message.\n",
      "\n",
      "    \"\"\"\n",
      "    # Ensure supplied message is any kind of iterator, not a scalar.\n",
      "    if not hasattr(message, '__iter__'):\n",
      "        message = [message]\n",
      "    \n",
      "    counts = {}\n",
      "    total = 0\n",
      "    \n",
      "    for s in message:\n",
      "        if s not in counts:\n",
      "            counts[s] = 0\n",
      "\n",
      "        counts[s] += 1\n",
      "        total += 1\n",
      "                \n",
      "    return counts, total\n",
      "\n",
      "\n",
      "def count_occurances(message):\n",
      "    \"\"\"Compute number of occurances of each symbol in the supplied message.\n",
      "    \n",
      "    Parmeters\n",
      "    ---------\n",
      "    message : sequence of symbols, OR a sequence of sequences of symbols.\n",
      "    \n",
      "    \"\"\"\n",
      "    counts_final = {}\n",
      "    total_final = 0\n",
      "    \n",
      "    for s in message:\n",
      "        counts_sub, total_sub = count_helper(s)\n",
      "\n",
      "        # Update final results with information from processed symbol (or sequence of symbols).\n",
      "        for s_sub in counts_sub.keys():                \n",
      "            if s_sub not in counts_final:\n",
      "                counts_final[s_sub] = 0\n",
      "            \n",
      "            counts_final[s_sub] += 1\n",
      "            total_final += 1\n",
      "        \n",
      "    return counts_final, total_final\n",
      "\n",
      "\n",
      "# The two functions above get the job done, but they don't look very elegant.  Surely there must\n",
      "# be a more Pythonic way to get this done.  Maybe I could get rid of that helper function, and replace\n",
      "# it with a generator???\n"
     ],
     "language": "python",
     "metadata": {},
     "outputs": [],
     "prompt_number": 30
    },
    {
     "cell_type": "code",
     "collapsed": false,
     "input": [
      "# Test run.\n",
      "results_msg, total_msg = count_occurances(message)\n",
      "\n",
      "# Print some results to the console.\n",
      "symbols_msg = results_msg.keys()\n",
      "# num_symbols = len(symbols)\n",
      "\n",
      "counts_msg = np.asarray(results_msg.values())\n",
      "\n",
      "print('\\nSymbol  Count')\n",
      "print('-------------')\n",
      "for k, v in results_msg.items():\n",
      "    print('  {:02d}     {:2d}'.format(k, v))\n",
      "\n",
      "print('\\n Total: {:d}\\n'.format(total_msg))"
     ],
     "language": "python",
     "metadata": {},
     "outputs": [
      {
       "output_type": "stream",
       "stream": "stdout",
       "text": [
        "\n",
        "Symbol  Count\n",
        "-------------\n",
        "  00      4\n",
        "  01      5\n",
        "  02      6\n",
        "  03      5\n",
        "  04      5\n",
        "  05      8\n",
        "  06      5\n",
        "  07      5\n",
        "  08      6\n",
        "  09      3\n",
        "  10      5\n",
        "  11      8\n",
        "  12      4\n",
        "  13      3\n",
        "  14      3\n",
        "  15      6\n",
        "  16      3\n",
        "  17      4\n",
        "  18      3\n",
        "  19      6\n",
        "  20      3\n",
        "  21      3\n",
        "  22      4\n",
        "  23      6\n",
        "  24      5\n",
        "  25      2\n",
        "\n",
        " Total: 120\n",
        "\n"
       ]
      }
     ],
     "prompt_number": 31
    },
    {
     "cell_type": "markdown",
     "metadata": {},
     "source": [
      "# Histogram\n",
      "That long list of numbers doesn't intuitively convey the story I'm building here.  Let's make a histogram!  Note that I'm using the `prettyplotlib` [package](https://github.com/olgabot/prettyplotlib) to give the `matplotlib` graphics a more appealing look.  I'm going to implement my histogram display as a function to make life easier later on."
     ]
    },
    {
     "cell_type": "code",
     "collapsed": false,
     "input": [
      "def hist_display(results):\n",
      "    \"\"\"Display a nice histogram of symbol frequencies.\n",
      "    \n",
      "    Parameters\n",
      "    ----------\n",
      "    results : dict, output from function count_occurances().\n",
      "    \"\"\"\n",
      "    symbols = results.keys()\n",
      "    num_symbols = len(symbols)\n",
      "    \n",
      "#     counts = [results[s] for s in symbols]\n",
      "#     counts = np.asarray(counts)\n",
      "    counts = np.asarray(results.values())\n",
      "\n",
      "    total = np.sum(counts)\n",
      "    \n",
      "    # Make some pretty labels with symbol name and percent of total observations.\n",
      "    labels = ['{:s} | {:04.1f}%'.format(str(s), results[s]/float(total)*100.) for s in symbols]\n",
      "    labels = np.asarray(labels)  # np array of strings.\n",
      "    \n",
      "    # Sort symbols by count value.\n",
      "    ix_sort = np.argsort(counts)\n",
      "\n",
      "    # Generate the plot.\n",
      "    fig, ax = plt.subplots(figsize=(6, 12))\n",
      "\n",
      "    ppl.barh(ax, range(num_symbols), counts[ix_sort], yticklabels=labels[ix_sort], height=.7, align='edge', edgecolor='grey')\n",
      "\n",
      "    ax.set_ylim(0,num_symbols)\n",
      "    ax.set_xlabel('Counts')\n",
      "    \n",
      "    "
     ],
     "language": "python",
     "metadata": {},
     "outputs": [],
     "prompt_number": 32
    },
    {
     "cell_type": "markdown",
     "metadata": {},
     "source": [
      "Using the function defined just above results in a neat little histogram shown below."
     ]
    },
    {
     "cell_type": "code",
     "collapsed": false,
     "input": [
      "hist_display(results_msg)"
     ],
     "language": "python",
     "metadata": {},
     "outputs": [
      {
       "metadata": {},
       "output_type": "display_data",
       "png": "[encoded data removed]",
       "text": [
        "<matplotlib.figure.Figure at 0x4823290>"
       ]
      }
     ],
     "prompt_number": 33
    },
    {
     "cell_type": "markdown",
     "metadata": {},
     "source": [
      "# Google's N-Gram Data\n",
      "\n",
      "[Peter Norvig](http://norvig.com/) at Google compiled an astounding set of statistics from information gleaned from Google's book scanning effort.\n",
      "\n",
      "But for this little task I need access to more basic data in a form suitable for programmatic manipuation.  Peter Norvig makes available a large number of data files summarizing the frequency of occurance of each letter, all as a function of the letter's position in a word.  From [Peter Norvig's](http://norvig.com/mayzner.html) web site:\n",
      "\n",
      "> Each column is given a name of the form `\"wordlength / start : end\"`. For example, `\"4/2:3\"` means that the column counts the number of ngrams that occur in 4 letter words (such as \"then\"), and only in position 2 through 3 (such as the \"he\" in \"then\"). We aggregate counts with a notation involving a `\"*\"`: the notation `\"*/2:3\"` refers to the second through third position within words of any length; `\"4/*\"` refers to any start positions in words of length 4; and `\"*/*\"` means any start position within words of any length. Finally, we also aggregate counts for positions near the ends of words: the notation `\"*/-3:-2\"` means the third-to-last through second-to-last position in words of any length (for example, this would be the bigram \"he\" for the words \"hen\", \"then\", \"lexicographer\", and \"greatgrandfather\").\n",
      "\n",
      "I am going to focus here on N-grams of lengths one through three.  The corresonding Google Fusion Tables generated by Peter Norvig are available here:\n",
      "\n",
      " - [1-Gram Fusion Table](https://www.google.com/fusiontables/DataSource?docid=1DlRnW1jLqZrRqVMlII39sJgWM5qH0hki_KcehSY)\n",
      " - [2-Gram Fusion Table](https://www.google.com/fusiontables/DataSource?docid=15jK-3WUD-JjQMdwLe-ipwqkUdjvf2JKK-D-s9as)\n",
      " - [3-Gram Fusion Table](https://www.google.com/fusiontables/DataSource?docid=1Va3VOFJ-zk9qrMsoyyEeTDiFlQIw1k4PPurYhnM)\n",
      "\n",
      "For my first time through I am going to ignore dependencies on word size and on symbol position within a word.\n",
      "\n",
      "### Side Note:\n",
      "One interesting tool for accessing high-level results from the above N-Gram data is [Google's Ngram Viewer](https://books.google.com/ngrams).  Using the words **horse**, **train**, **automobile** yields the following interesting results:\n",
      "\n",
      "<img src=\"https://github.com/Who8MyLunch/Holiday_Distration/blob/master/ngram_horse_train_auto.png?raw=true\" width=\"900\">\n",
      "\n"
     ]
    },
    {
     "cell_type": "code",
     "collapsed": false,
     "input": [
      "fname = 'ngrams1.csv'\n",
      "df = pd.read_csv(fname)\n",
      "\n",
      "symbols_goog = df['1-gram'].values\n",
      "counts_goog = df['*/*']\n",
      "\n",
      "# Convert counts to fraction of total count.\n",
      "counts_goog = counts_goog.values  #.astype(np.float)  # / np.sum(counts_goog)\n",
      "\n",
      "# Put it into a  dict.\n",
      "results_goog = dict(zip(symbols_goog, counts_goog))\n",
      "\n",
      "# Pretty histogram display.\n",
      "hist_display(results_goog)"
     ],
     "language": "python",
     "metadata": {},
     "outputs": [
      {
       "metadata": {},
       "output_type": "display_data",
       "png": "[encoded data removed]",
       "text": [
        "<matplotlib.figure.Figure at 0x4b9f250>"
       ]
      }
     ],
     "prompt_number": 34
    },
    {
     "cell_type": "markdown",
     "metadata": {},
     "source": [
      "# Decode\n",
      "\n",
      "Decode message by subsituting for first two symbols in ordered list."
     ]
    },
    {
     "cell_type": "code",
     "collapsed": false,
     "input": [],
     "language": "python",
     "metadata": {},
     "outputs": [],
     "prompt_number": 34
    },
    {
     "cell_type": "code",
     "collapsed": false,
     "input": [
      "# Testing with my own message.\n",
      "text_test = \"\"\"\n",
      "My wife and I sat down and looked this over for a little while. She loves playing Words with Friends on\n",
      "her phone and she had some good ideas about how to interpret the symbols for the smaller words. It looks\n",
      "to me that this note might be a poem, judging by the periodic sentences, plus what might be the author's name\n",
      "appended at the very end. After an hour we had not made much progress and so I decided to pursue a nerdy\n",
      "statistical approach. This will be an interesting effort to work on during my free time over the holiday.\n",
      "\"\"\"\n",
      "\n",
      "text_test = text_test.lower()\n",
      "for z in \".,'\\n \":\n",
      "    text_test = text_test.replace(z, '')\n",
      "\n",
      "# text_test = text_test[200:250]\n",
      "\n",
      "results_test, total_test = count_occurances(text_test)\n",
      "\n",
      "hist_display(results_test)"
     ],
     "language": "python",
     "metadata": {},
     "outputs": [
      {
       "metadata": {},
       "output_type": "display_data",
       "png": "[encoded data removed]",
       "text": [
        "<matplotlib.figure.Figure at 0x4bd9e50>"
       ]
      }
     ],
     "prompt_number": 35
    },
    {
     "cell_type": "code",
     "collapsed": false,
     "input": [
      "ix_sort_msg  = np.argsort(counts_msg)[::-1]\n",
      "ix_sort_goog = np.argsort(counts_goog)[::-1]\n",
      "\n",
      "N_fix = 2\n",
      "remap = {}\n",
      "\n",
      "for k in range(N_fix):\n",
      "    a = symbols_msg[ix_sort_msg[k]]\n",
      "    b = symbols_goog[ix_sort_goog[k]]\n",
      "    remap[a] = b.lower()\n",
      "\n",
      "remap[1] = 'a'\n",
      "\n",
      "for word_msg in message:\n",
      "    word_goog = ''\n",
      "    for s in word_msg:\n",
      "        word_goog += remap.get(s, '_')\n",
      "        \n",
      "    print(word_goog)"
     ],
     "language": "python",
     "metadata": {},
     "outputs": [
      {
       "output_type": "stream",
       "stream": "stdout",
       "text": [
        "_a___e______\n",
        "te_______\n",
        "___\n",
        "_t\n",
        "e__t____\n",
        "__t___\n",
        "_e____t_____\n",
        "a_\n",
        "___\n",
        "_______e\n",
        "__\n",
        "_\n",
        "____t__e___\n",
        "__\n",
        "_a_\n",
        "__________\n",
        "__a__\n",
        "_a\n",
        "___\n",
        "t___\n",
        "____et___\n",
        "___\n",
        "_______e_\n",
        "____\n",
        "______\n"
       ]
      }
     ],
     "prompt_number": 36
    },
    {
     "cell_type": "code",
     "collapsed": false,
     "input": [
      "\n",
      "def decode_message(message, line_ends, mapping):\n",
      "    \"\"\"Message decoder.\n",
      "    \"\"\"\n",
      "    message_plain = ''\n",
      "    \n",
      "    for counter, word_code in enumerate(message):\n",
      "        word_plain = ''\n",
      "        \n",
      "        for s in word_code:\n",
      "            word_plain += mapping.get(s, '_') + ' '\n",
      "            \n",
      "        word_plain += ' '\n",
      "        message_plain += word_plain\n",
      "        \n",
      "        if counter in line_ends:\n",
      "            message_plain += '\\n'\n",
      "            \n",
      "    return message_plain"
     ],
     "language": "python",
     "metadata": {},
     "outputs": [],
     "prompt_number": 41
    },
    {
     "cell_type": "code",
     "collapsed": false,
     "input": [
      "m = decode_message(message, line_ends, remap)"
     ],
     "language": "python",
     "metadata": {},
     "outputs": [],
     "prompt_number": 42
    },
    {
     "cell_type": "code",
     "collapsed": false,
     "input": [
      "line_ends\n"
     ],
     "language": "python",
     "metadata": {},
     "outputs": [
      {
       "metadata": {},
       "output_type": "pyout",
       "prompt_number": 43,
       "text": [
        "[3, 8, 14, 19, 24]"
       ]
      }
     ],
     "prompt_number": 43
    },
    {
     "cell_type": "code",
     "collapsed": false,
     "input": [
      "print(m)"
     ],
     "language": "python",
     "metadata": {},
     "outputs": [
      {
       "output_type": "stream",
       "stream": "stdout",
       "text": [
        "_ a _ _ _ e _ _ _ _ _ _  t e _ _ _ _ _ _ _  _ _ _  _ t  \n",
        "e _ _ t _ _ _ _  _ _ t _ _ _  _ e _ _ _ _ t _ _ _ _ _  a _  _ _ _  \n",
        "_ _ _ _ _ _ _ e  _ _  _  _ _ _ _ t _ _ e _ _ _  _ _  _ a _  \n",
        "_ _ _ _ _ _ _ _ _ _  _ _ a _ _  _ a  _ _ _  t _ _ _  \n",
        "_ _ _ _ e t _ _ _  _ _ _  _ _ _ _ _ _ _ e _  _ _ _ _  _ _ _ _ _ _  \n",
        "\n"
       ]
      }
     ],
     "prompt_number": 44
    },
    {
     "cell_type": "code",
     "collapsed": false,
     "input": [],
     "language": "python",
     "metadata": {},
     "outputs": [],
     "prompt_number": 40
    }
   ],
   "metadata": {}
  }
 ]
}