{
 "metadata": {
  "name": ""
 },
 "nbformat": 3,
 "nbformat_minor": 0,
 "worksheets": [
  {
   "cells": [
    {
     "cell_type": "code",
     "collapsed": false,
     "input": [
      "%matplotlib inline\n",
      "\n",
      "import matplotlib.pyplot as plt\n",
      "import prettyplotlib as ppl  # help matplotlib be all that it can be!  \n",
      "\n",
      "import numpy as np\n",
      "import requests\n"
     ],
     "language": "python",
     "metadata": {},
     "outputs": [],
     "prompt_number": 1
    },
    {
     "cell_type": "markdown",
     "metadata": {},
     "source": [
      "# A Coded Message\n",
      "\n",
      "Just the other day my brother sent me an image of a curious coded message.  The only explanation that came with it was the following challenge: _\"Can you crack this code?\"_  Aha!  Challenge accepted, sir!\n",
      "\n",
      "<img src=\"https://github.com/Who8MyLunch/Holiday_Distration/blob/master/IMG_20131220_145924~2.jpg?raw=true\" width=\"700\">\n",
      "\n",
      "This looks like symbols etched or burned (by laser??) onto a piece of wood.  My brother is pretty crafty with his wood-working skills, but would he actually take the time to make this?  Maybe?\n",
      "\n",
      "My wife and I sat down and looked this over for a little while.  She loves playing \"Words with Friends\" on her phone and she had some good ideas about how to interpret the symbols for the smaller words.  It looks to me that this note might be a poem, judging by the periodic sentences, plus what might be the author's name appended at the very end.  After an hour we had not made much progress and so I decided to pursue a nerdy statistical approach.  This will be an interesting effort to work on during my free time over the holiday.\n",
      "\n",
      "# Transcribe Symbols to Numbers\n",
      "\n",
      "<img src=\"https://github.com/Who8MyLunch/Holiday_Distration/blob/master/IMG_20131220_145924~2b.jpg?raw=true\" width=\"800\">\n",
      "\n",
      "The first step for me was to transcribe the indidual symbols in the message into a form amenable to manipulation by a machine.  I scanned thrugh the document and assigned a two-digit number to each symbol.  I wrote that all down on a piece paper while sitting on the couch.  Then I spent **way** too much time taking photos of those symbols and editing them into the form seen below.  Notice that there are exactly 26 distinct symbols in this code.  This lends support for the idea that this code is a variant of the [Classical Cipher](http://en.wikipedia.org/wiki/Classical_cipher), where original letters are substituted for new symbols using a predetermined scheme.\n",
      "\n",
      "\n",
      "\n",
      "<img src=\"https://github.com/Who8MyLunch/Holiday_Distration/blob/master/symbols_50.png?raw=true\" width=\"700\">\n",
      "\n",
      "Next I transcribed the encoded message into numerical form, making sure to keep track of individual words.  Each line of numbers listed below corresponds to an individual word from the coded message.  I think it's a bit of a hassle at this point to worry too much about which words are placed on which line.  But the least I can do now is to keep track of the index number for the first word on each line. "
     ]
    },
    {
     "cell_type": "code",
     "collapsed": false,
     "input": [
      "# Mysterious message transcribed to a number code for easy manipulation.\n",
      "message = [[ 0,  1,  2,  3,  4,  5,  6,  7,  8,  9,  3, 10],\n",
      "           [11,  5, 12, 13, 14, 14,  7,  6,  7],\n",
      "           [13, 10,  2],\n",
      "           [15, 11],\n",
      "           [ 5, 16,  4, 11,  2,  4,  3,  3],\n",
      "           [15, 17, 11, 18,  8, 14],\n",
      "           [ 6,  5, 24,  2, 19, 20, 11, 21, 24, 17,  3, 21],\n",
      "           [ 1, 22],           \n",
      "           [10,  9, 17],\n",
      "           [ 3, 14,  0,  7,  0, 19, 14,  5],\n",
      "           [23, 22],\n",
      "           [ 8],\n",
      "           [19,  6, 16,  2, 11, 17, 24,  5, 13, 12, 12],\n",
      "           [ 8,  4],\n",
      "           [24,  1, 22],\n",
      "           [ 0,  4,  9, 18, 10, 22,  6, 10, 19,  4],\n",
      "           [20, 15,  1, 10, 23],\n",
      "           [18,  1],\n",
      "           [ 3, 15, 21],\n",
      "           [11, 23, 12, 25],\n",
      "           [20, 19,  7, 23,  5, 11, 19,  7,  7]]           \n",
      "\n",
      "line_starts = [0, 4, 9, 14, 19]\n"
     ],
     "language": "python",
     "metadata": {},
     "outputs": [],
     "prompt_number": 2
    },
    {
     "cell_type": "markdown",
     "metadata": {},
     "source": [
      "# Counting Letters\n",
      "\n",
      "Now seems like a great time to start counting how many times we see each symbol repeated in the coded message text.  And here's why [(wikipedia)](http://en.wikipedia.org/wiki/Frequency_analysis):\n",
      "\n",
      "> Frequency analysis is based on the fact that, in any given stretch of written language, certain letters and combinations of letters occur with varying frequencies. Moreover, there is a characteristic distribution of letters that is roughly the same for almost all samples of that language\n",
      "\n"
     ]
    },
    {
     "cell_type": "code",
     "collapsed": false,
     "input": [
      "def count_helper(message):\n",
      "    \"\"\"Helper function to compute symbols is a message.\n",
      "\n",
      "    \"\"\"\n",
      "    \n",
      "    # Ensure supplied message is any kind of iterator, not a scalar.\n",
      "    if not hasattr(message, '__iter__'):\n",
      "        message = [message]\n",
      "    \n",
      "    counts = {}\n",
      "    total = 0\n",
      "    \n",
      "    for s in message:\n",
      "        if s not in counts:\n",
      "            counts[s] = 0\n",
      "\n",
      "        counts[s] += 1\n",
      "        total += 1\n",
      "                \n",
      "    return counts, total\n",
      "\n",
      "\n",
      "def count_occurances(message):\n",
      "    \"\"\"Compute number of occurances of each symbol in the supplied message.\n",
      "    \n",
      "    Parmeters\n",
      "    ---------\n",
      "    message : sequence of symbols, OR a sequence of sequences of symbols.\n",
      "    \"\"\"\n",
      "    \n",
      "    counts_final = {}\n",
      "    total_final = 0\n",
      "    \n",
      "    for s in message:\n",
      "        counts_sub, total_sub = count_helper(s)\n",
      "\n",
      "        # Update final results with information from processed symbol (or sequence of symbols).\n",
      "        for s_sub in counts_sub.keys():                \n",
      "            if s_sub not in counts_final:\n",
      "                counts_final[s_sub] = 0\n",
      "            \n",
      "            counts_final[s_sub] += 1\n",
      "            total_final += 1\n",
      "        \n",
      "    return counts_final, total_final\n",
      "\n",
      "# The two functions above get the job done, but they don't look very elegant.  Surely there must\n",
      "# be a more Pythonic way to get this done.  Maybe I could get rid of that helper function, and replace\n",
      "# it with a generator???"
     ],
     "language": "python",
     "metadata": {},
     "outputs": [],
     "prompt_number": 3
    },
    {
     "cell_type": "code",
     "collapsed": false,
     "input": [
      "# Test run.\n",
      "counts, total = count_occurances(message)\n",
      "\n",
      "num_symbols = max(counts.keys()) + 1\n",
      "\n",
      "print('\\nSymbol  Count')\n",
      "print('-------------')\n",
      "for k, v in counts.items():\n",
      "    print('  {:02d}     {:2d}'.format(k, v))\n",
      "\n",
      "print('\\n Total: {:d}\\n'.format(total))\n"
     ],
     "language": "python",
     "metadata": {},
     "outputs": [
      {
       "output_type": "stream",
       "stream": "stdout",
       "text": [
        "\n",
        "Symbol  Count\n",
        "-------------\n",
        "  00      3\n",
        "  01      5\n",
        "  02      5\n",
        "  03      5\n",
        "  04      4\n",
        "  05      7\n",
        "  06      5\n",
        "  07      4\n",
        "  08      4\n",
        "  09      3\n",
        "  10      5\n",
        "  11      8\n",
        "  12      3\n",
        "  13      3\n",
        "  14      3\n",
        "  15      4\n",
        "  16      2\n",
        "  17      4\n",
        "  18      3\n",
        "  19      5\n",
        "  20      3\n",
        "  21      2\n",
        "  22      4\n",
        "  23      4\n",
        "  24      3\n",
        "  25      1\n",
        "\n",
        " Total: 102\n",
        "\n"
       ]
      }
     ],
     "prompt_number": 4
    },
    {
     "cell_type": "markdown",
     "metadata": {},
     "source": [
      "# Histogram\n",
      "That long list of numbers doesn't intuitively convey the story I'm building here.  Let's make a histogram!  Note that I'm using the `prettyplotlib` [package](https://github.com/olgabot/prettyplotlib) to give the `matplotlib` graphics a more appealing look. "
     ]
    },
    {
     "cell_type": "code",
     "collapsed": false,
     "input": [
      "labels = np.asarray(['{:02d}'.format(k) for k in range(num_symbols)])\n",
      "\n",
      "x = np.arange(num_symbols)\n",
      "y = np.asarray(counts.values())\n",
      "\n",
      "fig, ax = plt.subplots(figsize=(12, 6))\n",
      "ppl.bar(ax, x, y, annotate=True, grid='y', xticklabels=labels)\n",
      "\n",
      "ax.set_xlim(-.5,26.5)\n",
      "ax.set_xlabel('Symbol')\n",
      "ax.set_ylabel('Counts')"
     ],
     "language": "python",
     "metadata": {},
     "outputs": [
      {
       "metadata": {},
       "output_type": "pyout",
       "prompt_number": 5,
       "text": [
        "<matplotlib.text.Text at 0x5599750>"
       ]
      },
      {
       "metadata": {},
       "output_type": "display_data",
       "png": "[encoded data removed]",
       "text": [
        "<matplotlib.figure.Figure at 0x4f83510>"
       ]
      }
     ],
     "prompt_number": 5
    },
    {
     "cell_type": "markdown",
     "metadata": {},
     "source": [
      "I can also show the same data ordered by decreasing count."
     ]
    },
    {
     "cell_type": "code",
     "collapsed": false,
     "input": [
      "# Sort data by count value.\n",
      "ix_sort = np.argsort(counts.values())[::-1]\n",
      "\n",
      "fig, ax = plt.subplots(figsize=(12, 6))\n",
      "plt.bar(ax, x, y[ix_sort], annotate=True, yticklabels=labels[ix_sort], orientation='horizontal')\n",
      "\n",
      "ax.set_xlim(-.5,26.5)\n",
      "ax.set_xlabel('Symbol')\n",
      "ax.set_ylabel('Counts')\n",
      "\n"
     ],
     "language": "python",
     "metadata": {},
     "outputs": [
      {
       "ename": "AssertionError",
       "evalue": "incompatible sizes: argument 'height' must be length 1 or scalar",
       "output_type": "pyerr",
       "traceback": [
        "\u001b[1;31m---------------------------------------------------------------------------\u001b[0m\n\u001b[1;31mAssertionError\u001b[0m                            Traceback (most recent call last)",
        "\u001b[1;32m<ipython-input-29-f9cdae8d0409>\u001b[0m in \u001b[0;36m<module>\u001b[1;34m()\u001b[0m\n\u001b[0;32m      3\u001b[0m \u001b[1;33m\u001b[0m\u001b[0m\n\u001b[0;32m      4\u001b[0m \u001b[0mfig\u001b[0m\u001b[1;33m,\u001b[0m \u001b[0max\u001b[0m \u001b[1;33m=\u001b[0m \u001b[0mplt\u001b[0m\u001b[1;33m.\u001b[0m\u001b[0msubplots\u001b[0m\u001b[1;33m(\u001b[0m\u001b[0mfigsize\u001b[0m\u001b[1;33m=\u001b[0m\u001b[1;33m(\u001b[0m\u001b[1;36m12\u001b[0m\u001b[1;33m,\u001b[0m \u001b[1;36m6\u001b[0m\u001b[1;33m)\u001b[0m\u001b[1;33m)\u001b[0m\u001b[1;33m\u001b[0m\u001b[0m\n\u001b[1;32m----> 5\u001b[1;33m \u001b[0mplt\u001b[0m\u001b[1;33m.\u001b[0m\u001b[0mbar\u001b[0m\u001b[1;33m(\u001b[0m\u001b[0max\u001b[0m\u001b[1;33m,\u001b[0m \u001b[0mx\u001b[0m\u001b[1;33m,\u001b[0m \u001b[0my\u001b[0m\u001b[1;33m[\u001b[0m\u001b[0mix_sort\u001b[0m\u001b[1;33m]\u001b[0m\u001b[1;33m,\u001b[0m \u001b[0mannotate\u001b[0m\u001b[1;33m=\u001b[0m\u001b[0mTrue\u001b[0m\u001b[1;33m,\u001b[0m \u001b[0myticklabels\u001b[0m\u001b[1;33m=\u001b[0m\u001b[0mlabels\u001b[0m\u001b[1;33m[\u001b[0m\u001b[0mix_sort\u001b[0m\u001b[1;33m]\u001b[0m\u001b[1;33m,\u001b[0m \u001b[0morientation\u001b[0m\u001b[1;33m=\u001b[0m\u001b[1;34m'horizontal'\u001b[0m\u001b[1;33m)\u001b[0m\u001b[1;33m\u001b[0m\u001b[0m\n\u001b[0m\u001b[0;32m      6\u001b[0m \u001b[1;33m\u001b[0m\u001b[0m\n\u001b[0;32m      7\u001b[0m \u001b[0max\u001b[0m\u001b[1;33m.\u001b[0m\u001b[0mset_xlim\u001b[0m\u001b[1;33m(\u001b[0m\u001b[1;33m-\u001b[0m\u001b[1;36m.5\u001b[0m\u001b[1;33m,\u001b[0m\u001b[1;36m26.5\u001b[0m\u001b[1;33m)\u001b[0m\u001b[1;33m\u001b[0m\u001b[0m\n",
        "\u001b[1;32m/usr/local/lib/python2.7/dist-packages/matplotlib/pyplot.pyc\u001b[0m in \u001b[0;36mbar\u001b[1;34m(left, height, width, bottom, hold, **kwargs)\u001b[0m\n\u001b[0;32m   2543\u001b[0m         \u001b[0max\u001b[0m\u001b[1;33m.\u001b[0m\u001b[0mhold\u001b[0m\u001b[1;33m(\u001b[0m\u001b[0mhold\u001b[0m\u001b[1;33m)\u001b[0m\u001b[1;33m\u001b[0m\u001b[0m\n\u001b[0;32m   2544\u001b[0m     \u001b[1;32mtry\u001b[0m\u001b[1;33m:\u001b[0m\u001b[1;33m\u001b[0m\u001b[0m\n\u001b[1;32m-> 2545\u001b[1;33m         \u001b[0mret\u001b[0m \u001b[1;33m=\u001b[0m \u001b[0max\u001b[0m\u001b[1;33m.\u001b[0m\u001b[0mbar\u001b[0m\u001b[1;33m(\u001b[0m\u001b[0mleft\u001b[0m\u001b[1;33m,\u001b[0m \u001b[0mheight\u001b[0m\u001b[1;33m,\u001b[0m \u001b[0mwidth\u001b[0m\u001b[1;33m=\u001b[0m\u001b[0mwidth\u001b[0m\u001b[1;33m,\u001b[0m \u001b[0mbottom\u001b[0m\u001b[1;33m=\u001b[0m\u001b[0mbottom\u001b[0m\u001b[1;33m,\u001b[0m \u001b[1;33m**\u001b[0m\u001b[0mkwargs\u001b[0m\u001b[1;33m)\u001b[0m\u001b[1;33m\u001b[0m\u001b[0m\n\u001b[0m\u001b[0;32m   2546\u001b[0m         \u001b[0mdraw_if_interactive\u001b[0m\u001b[1;33m(\u001b[0m\u001b[1;33m)\u001b[0m\u001b[1;33m\u001b[0m\u001b[0m\n\u001b[0;32m   2547\u001b[0m     \u001b[1;32mfinally\u001b[0m\u001b[1;33m:\u001b[0m\u001b[1;33m\u001b[0m\u001b[0m\n",
        "\u001b[1;32m/usr/local/lib/python2.7/dist-packages/matplotlib/axes/_axes.pyc\u001b[0m in \u001b[0;36mbar\u001b[1;34m(self, left, height, width, bottom, **kwargs)\u001b[0m\n\u001b[0;32m   1948\u001b[0m         assert len(height) == nbars, (\"incompatible sizes: argument 'height' \"\n\u001b[0;32m   1949\u001b[0m                                       \u001b[1;34m\"must be length %d or scalar\"\u001b[0m \u001b[1;33m%\u001b[0m\u001b[1;33m\u001b[0m\u001b[0m\n\u001b[1;32m-> 1950\u001b[1;33m                                       nbars)\n\u001b[0m\u001b[0;32m   1951\u001b[0m         assert len(width) == nbars, (\"incompatible sizes: argument 'width' \"\n\u001b[0;32m   1952\u001b[0m                                      \u001b[1;34m\"must be length %d or scalar\"\u001b[0m \u001b[1;33m%\u001b[0m\u001b[1;33m\u001b[0m\u001b[0m\n",
        "\u001b[1;31mAssertionError\u001b[0m: incompatible sizes: argument 'height' must be length 1 or scalar"
       ]
      },
      {
       "metadata": {},
       "output_type": "display_data",
       "png": "[encoded data removed]",
       "text": [
        "<matplotlib.figure.Figure at 0x5ee9f10>"
       ]
      }
     ],
     "prompt_number": 29
    },
    {
     "cell_type": "code",
     "collapsed": false,
     "input": [
      "# Sort data by count value.\n",
      "ix_sort = np.argsort(counts.values())[::-1]\n",
      "\n",
      "fig, ax = plt.subplots(figsize=(12, 6))\n",
      "\n",
      "# plt.bar(ax, x, y[ix_sort], annotate=True, yticklabels=labels[ix_sort], orientation='horizontal')\n",
      "# ax.set_xlim(-.5,26.5)\n",
      "# ax.set_xlabel('Symbol')\n",
      "# ax.set_ylabel('Counts')\n",
      "\n",
      "ppl.barh(ax, x, y[ix_sort])\n",
      "\n",
      "# people = ('Tom', 'Dick', 'Harry', 'Slim', 'Jim')\n",
      "# y_pos = np.arange(len(people))\n",
      "# performance = 3 + 10 * np.random.rand(len(people))\n",
      "# error = np.random.rand(len(people))\n",
      "\n",
      "# ppl.barh(y_pos, performance, xerr=error, align='center', alpha=0.4)\n",
      "# plt.yticks(y_pos, people)\n",
      "# plt.xlabel('Performance')\n",
      "# plt.title('How fast do you want to go today?')\n"
     ],
     "language": "python",
     "metadata": {},
     "outputs": [
      {
       "metadata": {},
       "output_type": "pyout",
       "prompt_number": 34,
       "text": [
        "<Container object of 26 artists>"
       ]
      },
      {
       "metadata": {},
       "output_type": "display_data",
       "png": "[encoded data removed]",
       "text": [
        "<matplotlib.figure.Figure at 0x5baea50>"
       ]
      }
     ],
     "prompt_number": 34
    },
    {
     "cell_type": "code",
     "collapsed": false,
     "input": [
      "ppl.barh?"
     ],
     "language": "python",
     "metadata": {},
     "outputs": [],
     "prompt_number": 33
    },
    {
     "cell_type": "code",
     "collapsed": false,
     "input": [
      "plt.bar?"
     ],
     "language": "python",
     "metadata": {},
     "outputs": [],
     "prompt_number": 21
    },
    {
     "cell_type": "code",
     "collapsed": false,
     "input": [],
     "language": "python",
     "metadata": {},
     "outputs": [],
     "prompt_number": 8
    },
    {
     "cell_type": "code",
     "collapsed": false,
     "input": [
      "import ipy_table\n",
      "example_table = [[i for i in range(j,j+4)] for j in range(0,30,10)]\n",
      "\n",
      "r1 = ['left', 'middle', 'right']\n",
      "r2 = [1230, 'hot', 'blue']\n",
      "r3 = [234, '<b>sdf</b>', '<input type=\"submit\" value=\"val\">sdsd</input>']\n",
      "t = [r1, r2, r3]\n",
      "\n",
      "ipy_table.make_table(t)\n",
      "ipy_table.apply_theme('basic_left')"
     ],
     "language": "python",
     "metadata": {},
     "outputs": [
      {
       "html": [
        "<table border=\"1\" cellpadding=\"3\" cellspacing=\"0\"  style=\"border:1px solid black;border-collapse:collapse;\"><tr><td  style=\"background-color:LightGray;\"><b>left</b></td><td  style=\"background-color:AliceBlue;\">middle</td><td  style=\"background-color:AliceBlue;\">right</td></tr><tr><td  style=\"background-color:LightGray;\"><b>1230</b></td><td  style=\"background-color:Ivory;\">hot</td><td  style=\"background-color:Ivory;\">blue</td></tr><tr><td  style=\"background-color:LightGray;\"><b>234</b></td><td  style=\"background-color:AliceBlue;\"><b>sdf</b></td><td  style=\"background-color:AliceBlue;\"><input&nbsptype=\"submit\"&nbspvalue=\"val\">sdsd</input></td></tr></table>"
       ],
       "metadata": {},
       "output_type": "pyout",
       "prompt_number": 19,
       "text": [
        "<ipy_table.IpyTable at 0x5a49c10>"
       ]
      }
     ],
     "prompt_number": 19
    },
    {
     "cell_type": "code",
     "collapsed": false,
     "input": [
      "# import matplotlib.pyplot as plt; plt.rcdefaults()\n",
      "# import numpy as np\n",
      "# import matplotlib.pyplot as plt\n",
      "\n",
      "\n",
      "# Example data\n",
      "people = ('Tom', 'Dick', 'Harry', 'Slim', 'Jim')\n",
      "y_pos = np.arange(len(people))\n",
      "performance = 3 + 10 * np.random.rand(len(people))\n",
      "error = np.random.rand(len(people))\n",
      "\n",
      "ppl.barh(y_pos, performance, xerr=error, align='center', alpha=0.4)\n",
      "plt.yticks(y_pos, people)\n",
      "plt.xlabel('Performance')\n",
      "plt.title('How fast do you want to go today?')\n",
      "\n",
      "plt.show()\n"
     ],
     "language": "python",
     "metadata": {},
     "outputs": [
      {
       "ename": "TypeError",
       "evalue": "barh() takes exactly 3 arguments (2 given)",
       "output_type": "pyerr",
       "traceback": [
        "\u001b[1;31m---------------------------------------------------------------------------\u001b[0m\n\u001b[1;31mTypeError\u001b[0m                                 Traceback (most recent call last)",
        "\u001b[1;32m<ipython-input-27-c96137cd730e>\u001b[0m in \u001b[0;36m<module>\u001b[1;34m()\u001b[0m\n\u001b[0;32m     10\u001b[0m \u001b[0merror\u001b[0m \u001b[1;33m=\u001b[0m \u001b[0mnp\u001b[0m\u001b[1;33m.\u001b[0m\u001b[0mrandom\u001b[0m\u001b[1;33m.\u001b[0m\u001b[0mrand\u001b[0m\u001b[1;33m(\u001b[0m\u001b[0mlen\u001b[0m\u001b[1;33m(\u001b[0m\u001b[0mpeople\u001b[0m\u001b[1;33m)\u001b[0m\u001b[1;33m)\u001b[0m\u001b[1;33m\u001b[0m\u001b[0m\n\u001b[0;32m     11\u001b[0m \u001b[1;33m\u001b[0m\u001b[0m\n\u001b[1;32m---> 12\u001b[1;33m \u001b[0mppl\u001b[0m\u001b[1;33m.\u001b[0m\u001b[0mbarh\u001b[0m\u001b[1;33m(\u001b[0m\u001b[0my_pos\u001b[0m\u001b[1;33m,\u001b[0m \u001b[0mperformance\u001b[0m\u001b[1;33m,\u001b[0m \u001b[0mxerr\u001b[0m\u001b[1;33m=\u001b[0m\u001b[0merror\u001b[0m\u001b[1;33m,\u001b[0m \u001b[0malign\u001b[0m\u001b[1;33m=\u001b[0m\u001b[1;34m'center'\u001b[0m\u001b[1;33m,\u001b[0m \u001b[0malpha\u001b[0m\u001b[1;33m=\u001b[0m\u001b[1;36m0.4\u001b[0m\u001b[1;33m)\u001b[0m\u001b[1;33m\u001b[0m\u001b[0m\n\u001b[0m\u001b[0;32m     13\u001b[0m \u001b[0mplt\u001b[0m\u001b[1;33m.\u001b[0m\u001b[0myticks\u001b[0m\u001b[1;33m(\u001b[0m\u001b[0my_pos\u001b[0m\u001b[1;33m,\u001b[0m \u001b[0mpeople\u001b[0m\u001b[1;33m)\u001b[0m\u001b[1;33m\u001b[0m\u001b[0m\n\u001b[0;32m     14\u001b[0m \u001b[0mplt\u001b[0m\u001b[1;33m.\u001b[0m\u001b[0mxlabel\u001b[0m\u001b[1;33m(\u001b[0m\u001b[1;34m'Performance'\u001b[0m\u001b[1;33m)\u001b[0m\u001b[1;33m\u001b[0m\u001b[0m\n",
        "\u001b[1;31mTypeError\u001b[0m: barh() takes exactly 3 arguments (2 given)"
       ]
      }
     ],
     "prompt_number": 27
    },
    {
     "cell_type": "code",
     "collapsed": false,
     "input": [
      "ppl.barh?"
     ],
     "language": "python",
     "metadata": {},
     "outputs": [],
     "prompt_number": 28
    },
    {
     "cell_type": "code",
     "collapsed": false,
     "input": [],
     "language": "python",
     "metadata": {},
     "outputs": []
    }
   ],
   "metadata": {}
  }
 ]
}