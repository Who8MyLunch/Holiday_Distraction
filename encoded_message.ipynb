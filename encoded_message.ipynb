{
 "metadata": {
  "name": ""
 },
 "nbformat": 3,
 "nbformat_minor": 0,
 "worksheets": [
  {
   "cells": [
    {
     "cell_type": "code",
     "collapsed": false,
     "input": [
      "%matplotlib inline\n",
      "\n",
      "import matplotlib.pyplot as plt\n",
      "import prettyplotlib as ppl  # help matplotlib be all that it can be!  \n",
      "\n",
      "import numpy as np\n",
      "import requests\n"
     ],
     "language": "python",
     "metadata": {},
     "outputs": [],
     "prompt_number": 119
    },
    {
     "cell_type": "markdown",
     "metadata": {},
     "source": [
      "# A Coded Message\n",
      "\n",
      "Just the other day my brother sent me an image of a curious coded message.  The only explanation that came with it was the following challenge: _\"Can you crack this code?\"_  Aha!  Challenge accepted, sir!\n",
      "\n",
      "<img src=\"https://github.com/Who8MyLunch/Holiday_Distration/blob/master/IMG_20131220_145924~2.jpg?raw=true\" width=\"700\">\n",
      "\n",
      "This looks like symbols etched or burned (by laser??) onto a piece of wood.  My brother is pretty crafty with his wood-working skills, but would he actually take the time to make this?  Maybe?\n",
      "\n",
      "My wife and I sat down and looked this over for a little while.  She loves playing \"Words with Friends\" on her phone and she had some good ideas about how to interpret the symbols for the smaller words.  It looks to me that this note might be a poem, judging by the periodic sentences, plus what might be the author's name appended at the very end.  After an hour we had not made much progress and so I decided to pursue a nerdy statistical approach.  This will be an interesting effort to work on during my free time over the holiday.\n",
      "\n",
      "# Transcribe Symbols to Numbers\n",
      "\n",
      "<img src=\"https://github.com/Who8MyLunch/Holiday_Distration/blob/master/IMG_20131220_145924~2b.jpg?raw=true\" width=\"800\">\n",
      "\n",
      "The first step for me was to transcribe the indidual symbols in the message into a form amenable to manipulation by a machine.  I scanned thrugh the document and assigned a two-digit number to each symbol.  I wrote that all down on a piece paper while sitting on the couch.  Then I spent **way** too much time taking photos of those symbols and editing them into the form seen below.  Notice that there are exactly 26 distinct symbols in this code.  This lends support for the idea that this code is a variant of the [Classical Cipher](http://en.wikipedia.org/wiki/Classical_cipher), where original letters are substituted for new symbols using a predetermined scheme.\n",
      "\n",
      "\n",
      "\n",
      "<img src=\"https://github.com/Who8MyLunch/Holiday_Distration/blob/master/symbols_50.png?raw=true\" width=\"700\">\n",
      "\n",
      "Next I transcribed the encoded message into numerical form, making sure to keep track of individual words.  Each line of numbers listed below corresponds to an individual word from the coded message.  I think it's a bit of a hassle at this point to worry too much about which words are placed on which line.  But the least I can do now is to keep track of the index number for the first word on each line. "
     ]
    },
    {
     "cell_type": "code",
     "collapsed": false,
     "input": [
      "# Mysterious message transcribed to a number code for easy manipulation.\n",
      "message = [[ 0,  1,  2,  3,  4,  5,  6,  7,  8,  9,  3, 10],\n",
      "           [11,  5, 12, 13, 14, 14,  7,  6,  7],\n",
      "           [13, 10,  2],\n",
      "           [15, 11],\n",
      "           [ 5, 16,  4, 11,  2,  4,  3,  3],\n",
      "           [15, 17, 11, 18,  8, 14],\n",
      "           [ 6,  5, 24,  2, 19, 20, 11, 21, 24, 17,  3, 21],\n",
      "           [ 1, 22],           \n",
      "           [10,  9, 17],\n",
      "           [ 3, 14,  0,  7,  0, 19, 14,  5],\n",
      "           [23, 22],\n",
      "           [ 8],\n",
      "           [19,  6, 16,  2, 11, 17, 24,  5, 13, 12, 12],\n",
      "           [ 8,  4],\n",
      "           [24,  1, 22],\n",
      "           [ 0,  4,  9, 18, 10, 22,  6, 10, 19,  4],\n",
      "           [20, 15,  1, 10, 23],\n",
      "           [18,  1],\n",
      "           [ 3, 15, 21],\n",
      "           [11, 23, 12, 25],\n",
      "           [20, 19,  7, 23,  5, 11, 19,  7,  7]]           \n",
      "\n",
      "line_starts = [0, 4, 9, 14, 19]\n"
     ],
     "language": "python",
     "metadata": {},
     "outputs": [],
     "prompt_number": 120
    },
    {
     "cell_type": "markdown",
     "metadata": {},
     "source": [
      "# Counting Letters\n",
      "\n",
      "Now seems like a great time to start counting how many times we see each symbol repeated in the coded message text.  And here's why [(wikipedia)](http://en.wikipedia.org/wiki/Frequency_analysis):\n",
      "\n",
      "> Frequency analysis is based on the fact that, in any given stretch of written language, certain letters and combinations of letters occur with varying frequencies. Moreover, there is a characteristic distribution of letters that is roughly the same for almost all samples of that language\n",
      "\n"
     ]
    },
    {
     "cell_type": "code",
     "collapsed": false,
     "input": [
      "def count_helper(message):\n",
      "    \"\"\"Helper function to compute symbols is a message.\n",
      "\n",
      "    \"\"\"\n",
      "    \n",
      "    # Ensure supplied message is any kind of iterator, not a scalar.\n",
      "    if not hasattr(message, '__iter__'):\n",
      "        message = [message]\n",
      "    \n",
      "    counts = {}\n",
      "    total = 0\n",
      "    \n",
      "    for s in message:\n",
      "        if s not in counts:\n",
      "            counts[s] = 0\n",
      "\n",
      "        counts[s] += 1\n",
      "        total += 1\n",
      "                \n",
      "    return counts, total\n",
      "\n",
      "\n",
      "def count_occurances(message):\n",
      "    \"\"\"Compute number of occurances of each symbol in the supplied message.\n",
      "    \n",
      "    Parmeters\n",
      "    ---------\n",
      "    message : sequence of symbols, OR a sequence of sequences of symbols.\n",
      "    \"\"\"\n",
      "    \n",
      "    counts_final = {}\n",
      "    total_final = 0\n",
      "    \n",
      "    for s in message:\n",
      "        counts_sub, total_sub = count_helper(s)\n",
      "\n",
      "        # Update final results with information from processed symbol (or sequence of symbols).\n",
      "        for s_sub in counts_sub.keys():                \n",
      "            if s_sub not in counts_final:\n",
      "                counts_final[s_sub] = 0\n",
      "            \n",
      "            counts_final[s_sub] += 1\n",
      "            total_final += 1\n",
      "        \n",
      "    return counts_final, total_final\n",
      "\n",
      "# The two functions above get the job done, but they don't look very elegant.  Surely there must\n",
      "# be a more Pythonic way to get this done.  Maybe I could get rid of that helper function, and replace\n",
      "# it with a generator???"
     ],
     "language": "python",
     "metadata": {},
     "outputs": [],
     "prompt_number": 121
    },
    {
     "cell_type": "code",
     "collapsed": false,
     "input": [
      "# Test run.\n",
      "counts, total = count_occurances(message)\n",
      "\n",
      "num_symbols = max(counts.keys()) + 1\n",
      "\n",
      "print('\\nSymbol  Count')\n",
      "print('-------------')\n",
      "for k, v in counts.items():\n",
      "    print('  {:02d}     {:2d}'.format(k, v))\n",
      "\n",
      "print('\\n Total: {:d}\\n'.format(total))\n"
     ],
     "language": "python",
     "metadata": {},
     "outputs": [
      {
       "output_type": "stream",
       "stream": "stdout",
       "text": [
        "\n",
        "Symbol  Count\n",
        "-------------\n",
        "  00      3\n",
        "  01      5\n",
        "  02      5\n",
        "  03      5\n",
        "  04      4\n",
        "  05      7\n",
        "  06      5\n",
        "  07      4\n",
        "  08      4\n",
        "  09      3\n",
        "  10      5\n",
        "  11      8\n",
        "  12      3\n",
        "  13      3\n",
        "  14      3\n",
        "  15      4\n",
        "  16      2\n",
        "  17      4\n",
        "  18      3\n",
        "  19      5\n",
        "  20      3\n",
        "  21      2\n",
        "  22      4\n",
        "  23      4\n",
        "  24      3\n",
        "  25      1\n",
        "\n",
        " Total: 102\n",
        "\n"
       ]
      }
     ],
     "prompt_number": 122
    },
    {
     "cell_type": "markdown",
     "metadata": {},
     "source": [
      "# Histogram\n",
      "That long list of numbers doesn't intuitively convey the story I'm building here.  Let's make a histogram!  Note that I'm using the `prettyplotlib` [package](https://github.com/olgabot/prettyplotlib) to give the `matplotlib` graphics a more appealing look. "
     ]
    },
    {
     "cell_type": "code",
     "collapsed": false,
     "input": [
      "labels = np.asarray(['{:02d}'.format(k) for k in range(num_symbols)])\n",
      "\n",
      "x = np.arange(num_symbols)\n",
      "y = np.asarray(counts.values())\n",
      "\n",
      "fig, ax = plt.subplots(figsize=(12, 6))\n",
      "ppl.bar(ax, x, y, annotate=True, grid='y', xticklabels=labels)\n",
      "\n",
      "ax.set_xlim(-.5,26.5)\n",
      "ax.set_xlabel('Symbol')\n",
      "ax.set_ylabel('Counts')"
     ],
     "language": "python",
     "metadata": {},
     "outputs": [
      {
       "metadata": {},
       "output_type": "pyout",
       "prompt_number": 123,
       "text": [
        "<matplotlib.text.Text at 0xd30f4d0>"
       ]
      },
      {
       "metadata": {},
       "output_type": "display_data",
       "png": "[encoded data removed]",
       "text": [
        "<matplotlib.figure.Figure at 0xd32ab10>"
       ]
      }
     ],
     "prompt_number": 123
    },
    {
     "cell_type": "markdown",
     "metadata": {},
     "source": [
      "I can also show the same data ordered by decreasing count."
     ]
    },
    {
     "cell_type": "code",
     "collapsed": false,
     "input": [
      "# Sort data by count value.\n",
      "ix_sort = np.argsort(counts.values())[::-1]\n",
      "\n",
      "fig, ax = plt.subplots(figsize=(12, 6))\n",
      "ppl.bar(ax, x, y[ix_sort], annotate=True, grid='y', xticklabels=labels[ix_sort])\n",
      "\n",
      "ax.set_xlim(-.5,26.5)\n",
      "ax.set_xlabel('Symbol')\n",
      "ax.set_ylabel('Counts')"
     ],
     "language": "python",
     "metadata": {},
     "outputs": [
      {
       "metadata": {},
       "output_type": "pyout",
       "prompt_number": 124,
       "text": [
        "<matplotlib.text.Text at 0xd862ed0>"
       ]
      },
      {
       "metadata": {},
       "output_type": "display_data",
       "png": "[encoded data removed]",
       "text": [
        "<matplotlib.figure.Figure at 0xd765c50>"
       ]
      }
     ],
     "prompt_number": 124
    },
    {
     "cell_type": "markdown",
     "metadata": {},
     "source": []
    },
    {
     "cell_type": "code",
     "collapsed": false,
     "input": [],
     "language": "python",
     "metadata": {},
     "outputs": [],
     "prompt_number": 124
    },
    {
     "cell_type": "code",
     "collapsed": false,
     "input": [],
     "language": "python",
     "metadata": {},
     "outputs": [],
     "prompt_number": 124
    },
    {
     "cell_type": "code",
     "collapsed": false,
     "input": [],
     "language": "python",
     "metadata": {},
     "outputs": [],
     "prompt_number": 124
    },
    {
     "cell_type": "code",
     "collapsed": false,
     "input": [],
     "language": "python",
     "metadata": {},
     "outputs": [],
     "prompt_number": 124
    }
   ],
   "metadata": {}
  }
 ]
}