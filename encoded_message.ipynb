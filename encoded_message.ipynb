{
 "metadata": {
  "name": ""
 },
 "nbformat": 3,
 "nbformat_minor": 0,
 "worksheets": [
  {
   "cells": [
    {
     "cell_type": "code",
     "collapsed": false,
     "input": [
      "%matplotlib inline\n",
      "\n",
      "import numpy as np"
     ],
     "language": "python",
     "metadata": {},
     "outputs": [],
     "prompt_number": 43
    },
    {
     "cell_type": "markdown",
     "metadata": {},
     "source": [
      "# A Coded Message\n",
      "\n",
      "Just the other day my brother sent me an image of a curious coded message.  The only explanation that came with it was the following challenge: _\"Can you crack this code?\"_\n",
      "\n",
      "<img src=\"https://github.com/Who8MyLunch/Holiday_Distration/blob/master/IMG_20131220_145924~2b.jpg?raw=true\" width=\"800\">\n",
      "\n",
      "My wife and I sat down and looked this over for a little while.  She loves playing \"Words with Friends\" on her phone and she had some good ideas about how to interpret the symbols for the smaller words.  It looks to me that this note might be a poem, judging by the periodic sentences, plus what might be the author's name appended at the very end.  After an hour we had not made much progress and so I decided to pursue a nerdy statistical approach.  This will be an interesting effort to work on during my free time over the holiday."
     ]
    },
    {
     "cell_type": "markdown",
     "metadata": {},
     "source": [
      "# Transcribe the Symbols\n",
      "\n",
      "The first step for me was to transcribe the indidual symbols in the message into a form amenable to manipulation by a machine.  I scanned thrugh the document and assigned a two-digit number to each symbol.  I wrote that all down on a piece paper.\n",
      "\n",
      "    Photo of my notes here.\n",
      "\n",
      "Next I transcribed the encoded message into numerical form, making sure to keep track of individual words.  Each line of numbers below corresponds to a word in the coded message.  I decided it will be too much of a hassle to keep track of how many words are on each lines.  I'm also ignoring the few pieces of punctuation."
     ]
    },
    {
     "cell_type": "code",
     "collapsed": false,
     "input": [
      "# Mysterious message transcribed to number code.\n",
      "message = [[ 0,  1,  2,  3,  4,  5,  6,  7,  8,  9,  3, 10],\n",
      "           [11,  5, 12, 13, 14, 14,  7,  6,  7],\n",
      "           [13, 10,  2],\n",
      "           [15, 11],\n",
      "           [ 5, 16,  4, 11,  2,  4,  3,  3],\n",
      "           [15, 17, 11, 18,  8, 14],\n",
      "           [ 6,  5, 24,  2, 19, 20, 11, 21, 24, 17,  3, 21],\n",
      "           [ 1, 22],           \n",
      "           [10,  9, 17],\n",
      "           [ 3, 14,  0,  7,  0, 19, 14,  5],\n",
      "           [23, 22],\n",
      "           [ 8],\n",
      "           [19,  6, 16,  2, 11, 17, 24,  5, 13, 12, 12],\n",
      "           [ 8,  4],\n",
      "           [24,  1, 22],\n",
      "           [ 0,  4,  9, 18, 10, 22,  6, 10, 19,  4],\n",
      "           [20, 15,  1, 10, 23],\n",
      "           [18,  1],\n",
      "           [ 3, 15, 21],\n",
      "           [11, 23, 12, 25],\n",
      "           [20, 19,  7, 23,  5, 11, 19,  7,  7]]           \n",
      "\n"
     ],
     "language": "python",
     "metadata": {},
     "outputs": [],
     "prompt_number": 48
    },
    {
     "cell_type": "code",
     "collapsed": false,
     "input": [
      "np.asarray(message).flatten()"
     ],
     "language": "python",
     "metadata": {},
     "outputs": [
      {
       "metadata": {},
       "output_type": "pyout",
       "prompt_number": 49,
       "text": [
        "array([[0, 1, 2, 3, 4, 5, 6, 7, 8, 9, 3, 10],\n",
        "       [11, 5, 12, 13, 14, 14, 7, 6, 7], [13, 10, 2], [15, 11], [],\n",
        "       [5, 16, 4, 11, 2, 4, 3, 3], [15, 17, 11, 18, 8, 14],\n",
        "       [6, 5, 24, 2, 19, 20, 11, 21, 24, 17, 3, 21], [1, 22], [10, 9, 17],\n",
        "       [], [3, 14, 0, 7, 0, 19, 14, 5], [23, 22], [8],\n",
        "       [19, 6, 16, 2, 11, 17, 24, 5, 13, 12, 12], [8, 4], [24, 1, 22], [],\n",
        "       [0, 4, 9, 18, 10, 22, 6, 10, 19, 4], [20, 15, 1, 10, 23], [18, 1],\n",
        "       [3, 15, 21], [11, 23, 12, 25], [20, 19, 7, 23, 5, 11, 19, 7, 7]], dtype=object)"
       ]
      }
     ],
     "prompt_number": 49
    },
    {
     "cell_type": "code",
     "collapsed": false,
     "input": [],
     "language": "python",
     "metadata": {},
     "outputs": [],
     "prompt_number": 40
    }
   ],
   "metadata": {}
  }
 ]
}